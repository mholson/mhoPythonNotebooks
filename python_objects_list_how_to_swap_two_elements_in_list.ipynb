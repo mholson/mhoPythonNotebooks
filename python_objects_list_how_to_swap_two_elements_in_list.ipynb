{
  "nbformat": 4,
  "nbformat_minor": 0,
  "metadata": {
    "colab": {
      "provenance": [],
      "authorship_tag": "ABX9TyOeuAwbBFqcp+S+S/Db7oWS",
      "include_colab_link": true
    },
    "kernelspec": {
      "name": "python3",
      "display_name": "Python 3"
    },
    "language_info": {
      "name": "python"
    }
  },
  "cells": [
    {
      "cell_type": "markdown",
      "metadata": {
        "id": "view-in-github",
        "colab_type": "text"
      },
      "source": [
        "<a href=\"https://colab.research.google.com/github/mholson/mhoPythonNotebooks/blob/main/python_objects_list_how_to_swap_two_elements_in_list.ipynb\" target=\"_parent\"><img src=\"https://colab.research.google.com/assets/colab-badge.svg\" alt=\"Open In Colab\"/></a>"
      ]
    },
    {
      "cell_type": "code",
      "source": [
        "# Swap two elements in a list\n",
        "\n",
        "seq = [5, 3]\n",
        "\n",
        "mem = seq[0]\n",
        "seq[0] = seq[1]\n",
        "seq[1] = mem\n",
        "\n",
        "seq"
      ],
      "metadata": {
        "colab": {
          "base_uri": "https://localhost:8080/"
        },
        "id": "1KTsvzQgDM77",
        "outputId": "48048887-a270-4f60-8007-48ac382274b0"
      },
      "execution_count": null,
      "outputs": [
        {
          "output_type": "execute_result",
          "data": {
            "text/plain": [
              "[3, 5]"
            ]
          },
          "metadata": {},
          "execution_count": 20
        }
      ]
    },
    {
      "cell_type": "code",
      "source": [
        "def swap(seq, a, b):\n",
        "  \"\"\"\n",
        "  Swap element indexed at a with element indexed at b\n",
        "  in a list seq\n",
        "  \"\"\"\n",
        "  mem = seq[a]\n",
        "  seq[a] = seq[b]\n",
        "  seq[b] = mem\n",
        "  return seq\n",
        "\n",
        "myList = [3, 2, 6, 7, 4]\n",
        "\n",
        "swap(myList,3,4)"
      ],
      "metadata": {
        "colab": {
          "base_uri": "https://localhost:8080/"
        },
        "id": "-2iKJ1qxFSUc",
        "outputId": "59cd2cdd-4757-4b8e-bdfb-98c1b14b1c29"
      },
      "execution_count": null,
      "outputs": [
        {
          "output_type": "execute_result",
          "data": {
            "text/plain": [
              "[3, 2, 6, 4, 7]"
            ]
          },
          "metadata": {},
          "execution_count": 24
        }
      ]
    }
  ]
}