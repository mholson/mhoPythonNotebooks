{
  "nbformat": 4,
  "nbformat_minor": 0,
  "metadata": {
    "colab": {
      "provenance": [],
      "authorship_tag": "ABX9TyNNwfPPVU1Z9AvDqnA3IP9o",
      "include_colab_link": true
    },
    "kernelspec": {
      "name": "python3",
      "display_name": "Python 3"
    },
    "language_info": {
      "name": "python"
    }
  },
  "cells": [
    {
      "cell_type": "markdown",
      "metadata": {
        "id": "view-in-github",
        "colab_type": "text"
      },
      "source": [
        "<a href=\"https://colab.research.google.com/github/mholson/mhoPythonNotebooks/blob/main/bubble_sort_algorithm.ipynb\" target=\"_parent\"><img src=\"https://colab.research.google.com/assets/colab-badge.svg\" alt=\"Open In Colab\"/></a>"
      ]
    },
    {
      "cell_type": "code",
      "execution_count": 18,
      "metadata": {
        "colab": {
          "base_uri": "https://localhost:8080/"
        },
        "id": "bFTzLzxpepgE",
        "outputId": "91a919f3-5b5a-4e08-e452-29a2f6f33ddc"
      },
      "outputs": [
        {
          "output_type": "stream",
          "name": "stdout",
          "text": [
            "[7, 2, 5, 9, 1, 3]\n",
            "[2, 7, 5, 9, 1, 3]\n",
            "[2, 5, 7, 9, 1, 3]\n",
            "[2, 5, 7, 1, 9, 3]\n",
            "[2, 5, 7, 1, 3, 9]\n",
            "[2, 5, 1, 7, 3, 9]\n",
            "[2, 5, 1, 3, 7, 9]\n",
            "[2, 1, 5, 3, 7, 9]\n",
            "[2, 1, 3, 5, 7, 9]\n",
            "[1, 2, 3, 5, 7, 9]\n",
            "Bubble sort took 5 cycles to complete\n"
          ]
        }
      ],
      "source": [
        "pos = [0, 1, 2, 3, 4 ,5]\n",
        "seq = [7, 2, 5, 9, 1, 3]\n",
        "\n",
        "n = len(seq)\n",
        "print(seq)\n",
        "\n",
        "loop = 0\n",
        "\n",
        "while True:\n",
        "  swap = 0\n",
        "  loop += 1\n",
        "  for i in range(n - 1):\n",
        "    if seq[i] > seq[i + 1]:\n",
        "      mem = seq[i]\n",
        "      seq[i] = seq[i + 1]\n",
        "      seq[i + 1] = mem\n",
        "      swap += 1\n",
        "      print(seq)\n",
        "  if swap == 0:\n",
        "    break\n",
        "\n",
        "print(f\"Bubble sort took {loop} cycles to complete\")"
      ]
    },
    {
      "cell_type": "code",
      "source": [],
      "metadata": {
        "id": "d8q3MYgNly7D"
      },
      "execution_count": null,
      "outputs": []
    }
  ]
}