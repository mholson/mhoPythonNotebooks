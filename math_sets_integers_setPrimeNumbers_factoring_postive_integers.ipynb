{
  "cells": [
    {
      "cell_type": "markdown",
      "metadata": {
        "id": "view-in-github",
        "colab_type": "text"
      },
      "source": [
        "<a href=\"https://colab.research.google.com/github/mholson/mhoPythonNotebooks/blob/main/math_sets_integers_setPrimeNumbers_factoring_postive_integers.ipynb\" target=\"_parent\"><img src=\"https://colab.research.google.com/assets/colab-badge.svg\" alt=\"Open In Colab\"/></a>"
      ]
    },
    {
      "cell_type": "code",
      "execution_count": null,
      "metadata": {
        "id": "D8_g8QCB0XjJ"
      },
      "outputs": [],
      "source": [
        "def factor(z):\n",
        "  divisor = 2\n",
        "  factorList = []\n",
        "  while z > 1:\n",
        "    if z%divisor == 0:\n",
        "     factorList.append(divisor) \n",
        "     z = z/divisor\n",
        "    else:\n",
        "      divisor += 1\n",
        "  return factorList\n"
      ]
    },
    {
      "cell_type": "code",
      "source": [
        "factor(12123434134)"
      ],
      "metadata": {
        "id": "-c1w7u_BF5yz",
        "outputId": "b9e5fc2b-7032-44e4-d116-8c7cdaf68f6c",
        "colab": {
          "base_uri": "https://localhost:8080/"
        }
      },
      "execution_count": null,
      "outputs": [
        {
          "output_type": "execute_result",
          "data": {
            "text/plain": [
              "[2, 7, 37, 37, 337, 1877]"
            ]
          },
          "metadata": {},
          "execution_count": 13
        }
      ]
    }
  ],
  "metadata": {
    "colab": {
      "provenance": [],
      "authorship_tag": "ABX9TyPIGm5lbDNpXjnrszwS+BJ1",
      "include_colab_link": true
    },
    "kernelspec": {
      "display_name": "Python 3",
      "name": "python3"
    },
    "language_info": {
      "name": "python"
    }
  },
  "nbformat": 4,
  "nbformat_minor": 0
}