{
  "nbformat": 4,
  "nbformat_minor": 0,
  "metadata": {
    "colab": {
      "provenance": [],
      "authorship_tag": "ABX9TyMDD1+FDE+8Z4g4jnrSuQCH",
      "include_colab_link": true
    },
    "kernelspec": {
      "name": "python3",
      "display_name": "Python 3"
    },
    "language_info": {
      "name": "python"
    }
  },
  "cells": [
    {
      "cell_type": "markdown",
      "metadata": {
        "id": "view-in-github",
        "colab_type": "text"
      },
      "source": [
        "<a href=\"https://colab.research.google.com/github/mholson/mhoPythonNotebooks/blob/main/python_colab_math_func_create_table_of_values_05mj.ipynb\" target=\"_parent\"><img src=\"https://colab.research.google.com/assets/colab-badge.svg\" alt=\"Open In Colab\"/></a>"
      ]
    },
    {
      "cell_type": "markdown",
      "source": [
        "# How to Create a Table of Values?"
      ],
      "metadata": {
        "id": "4WrBzlduVYL-"
      }
    },
    {
      "cell_type": "markdown",
      "source": [
        "## 1. Define the Domain Set"
      ],
      "metadata": {
        "id": "jSvRF_5SVoWS"
      }
    },
    {
      "cell_type": "code",
      "source": [
        "domain_set = [-2, -1, 0, 1, 2]"
      ],
      "metadata": {
        "id": "NTygky8QWUPS"
      },
      "execution_count": 33,
      "outputs": []
    },
    {
      "cell_type": "markdown",
      "source": [
        "## 2. Define a Function"
      ],
      "metadata": {
        "id": "wT-7CeViVuxy"
      }
    },
    {
      "cell_type": "code",
      "source": [
        "def f(x):\n",
        "  return x**2 + 3*x + 3"
      ],
      "metadata": {
        "id": "dY9oQe5jWU8U"
      },
      "execution_count": 34,
      "outputs": []
    },
    {
      "cell_type": "code",
      "source": [
        "f(1)"
      ],
      "metadata": {
        "colab": {
          "base_uri": "https://localhost:8080/"
        },
        "id": "CsSCMA-rZOPR",
        "outputId": "0d75d391-549d-4cce-ea31-f0cfd6d20997"
      },
      "execution_count": 35,
      "outputs": [
        {
          "output_type": "execute_result",
          "data": {
            "text/plain": [
              "7"
            ]
          },
          "metadata": {},
          "execution_count": 35
        }
      ]
    },
    {
      "cell_type": "markdown",
      "source": [
        "## 3. Generate the Range Set"
      ],
      "metadata": {
        "id": "MM42ytgcV3LS"
      }
    },
    {
      "cell_type": "code",
      "source": [
        "domain_set"
      ],
      "metadata": {
        "colab": {
          "base_uri": "https://localhost:8080/"
        },
        "id": "xtkg9VjGWWAB",
        "outputId": "97d3dae6-da13-4c57-ed4b-1c7c4792ad5b"
      },
      "execution_count": 36,
      "outputs": [
        {
          "output_type": "execute_result",
          "data": {
            "text/plain": [
              "[-2, -1, 0, 1, 2]"
            ]
          },
          "metadata": {},
          "execution_count": 36
        }
      ]
    },
    {
      "cell_type": "code",
      "source": [
        "range_set = []\n",
        "\n",
        "for element in domain_set:\n",
        "  range_set.append(f(element))"
      ],
      "metadata": {
        "id": "lUP8_ocbXSk0"
      },
      "execution_count": 40,
      "outputs": []
    },
    {
      "cell_type": "code",
      "source": [
        "range_set"
      ],
      "metadata": {
        "colab": {
          "base_uri": "https://localhost:8080/"
        },
        "id": "0AazsIoSXh83",
        "outputId": "002dfef3-463a-4741-e5df-3ff7d9358bd8"
      },
      "execution_count": 41,
      "outputs": [
        {
          "output_type": "execute_result",
          "data": {
            "text/plain": [
              "[1, 1, 3, 7, 13]"
            ]
          },
          "metadata": {},
          "execution_count": 41
        }
      ]
    },
    {
      "cell_type": "markdown",
      "source": [
        "## 4. Generate the Graph Set"
      ],
      "metadata": {
        "id": "gNCtPnf6V7VY"
      }
    },
    {
      "cell_type": "code",
      "source": [
        "print(f\"{domain_set}\\n{range_set}\")"
      ],
      "metadata": {
        "colab": {
          "base_uri": "https://localhost:8080/"
        },
        "id": "0H5gMWRhWXFC",
        "outputId": "6e32a5b8-ec8b-4a3b-c2f5-2405458a8554"
      },
      "execution_count": 42,
      "outputs": [
        {
          "output_type": "stream",
          "name": "stdout",
          "text": [
            "[-2, -1, 0, 1, 2]\n",
            "[1, 1, 3, 7, 13]\n"
          ]
        }
      ]
    },
    {
      "cell_type": "code",
      "source": [
        "graph_set = list(zip(domain_set, range_set))"
      ],
      "metadata": {
        "id": "DrOa2l37OKs7"
      },
      "execution_count": 46,
      "outputs": []
    },
    {
      "cell_type": "code",
      "source": [
        "graph_set"
      ],
      "metadata": {
        "colab": {
          "base_uri": "https://localhost:8080/"
        },
        "id": "5UJ-kn4gOI2d",
        "outputId": "fac2aaed-3489-4dc7-edc8-ac795d8e4fd2"
      },
      "execution_count": 47,
      "outputs": [
        {
          "output_type": "execute_result",
          "data": {
            "text/plain": [
              "[(-2, 1), (-1, 1), (0, 3), (1, 7), (2, 13)]"
            ]
          },
          "metadata": {},
          "execution_count": 47
        }
      ]
    },
    {
      "cell_type": "markdown",
      "source": [
        "## 5. Generate the Table of Values"
      ],
      "metadata": {
        "id": "YC7pgzO8Vzub"
      }
    },
    {
      "cell_type": "code",
      "execution_count": 59,
      "metadata": {
        "colab": {
          "base_uri": "https://localhost:8080/"
        },
        "id": "mCJmQ8CAVRH7",
        "outputId": "0fbfb622-c1e4-4b81-add6-343e82d55b0e"
      },
      "outputs": [
        {
          "output_type": "stream",
          "name": "stdout",
          "text": [
            "|   x |   y |\n",
            "|-----|-----|\n",
            "|  -2 |   1 |\n",
            "|  -1 |   1 |\n",
            "|   0 |   3 |\n",
            "|   1 |   7 |\n",
            "|   2 |  13 |\n"
          ]
        }
      ],
      "source": [
        "from tabulate import tabulate\n",
        "\n",
        "print(tabulate(graph_set,\n",
        "               headers = [\"x\", \"y\"],\n",
        "               tablefmt = \"github\"\n",
        "               )\n",
        ")"
      ]
    },
    {
      "cell_type": "code",
      "source": [],
      "metadata": {
        "id": "nT9G8wb2VbkD"
      },
      "execution_count": null,
      "outputs": []
    }
  ]
}